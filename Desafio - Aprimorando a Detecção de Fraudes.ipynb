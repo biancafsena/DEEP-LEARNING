{
  "nbformat": 4,
  "nbformat_minor": 0,
  "metadata": {
    "colab": {
      "provenance": []
    },
    "kernelspec": {
      "name": "python3",
      "display_name": "Python 3"
    },
    "language_info": {
      "name": "python"
    }
  },
  "cells": [
    {
      "cell_type": "markdown",
      "source": [
        "# **1. Análise Exploratória de Dados:**"
      ],
      "metadata": {
        "id": "STrbFoT_LGp_"
      }
    },
    {
      "cell_type": "markdown",
      "source": [
        "### **Bibliotecas**"
      ],
      "metadata": {
        "id": "y8AcqUgaMQoQ"
      }
    },
    {
      "cell_type": "code",
      "source": [
        "import pandas as pd\n",
        "import numpy as np\n",
        "import seaborn as sns\n",
        "import matplotlib.pyplot as plt\n",
        "\n",
        "from sklearn.model_selection import train_test_split\n",
        "from sklearn.preprocessing import StandardScaler\n",
        "from sklearn.neural_network import MLPClassifier\n",
        "from sklearn.metrics import confusion_matrix, classification_report, roc_auc_score\n",
        "from sklearn.preprocessing import StandardScaler, OneHotEncoder\n",
        "from sklearn.compose import ColumnTransformer\n",
        "from sklearn.impute import SimpleImputer\n",
        "from sklearn.pipeline import Pipeline\n",
        "from sklearn.pipeline import Pipeline, make_pipeline\n",
        "from sklearn.preprocessing import FunctionTransformer\n",
        "from sklearn.metrics import roc_curve, auc"
      ],
      "metadata": {
        "id": "yXcGMl1wLHB9"
      },
      "execution_count": 2,
      "outputs": []
    },
    {
      "cell_type": "markdown",
      "source": [
        "Com objetivo de importar varias bibliotecas com modulos de dados."
      ],
      "metadata": {
        "id": "oihZbBt_LMSV"
      }
    },
    {
      "cell_type": "markdown",
      "source": [
        "### **Carregador de Dados**"
      ],
      "metadata": {
        "id": "LUkhF0hQLHeH"
      }
    },
    {
      "cell_type": "code",
      "source": [
        "df = pd.read_csv('dataset.csv', delimiter=';')\n",
        "print(df.head())\n"
      ],
      "metadata": {
        "colab": {
          "base_uri": "https://localhost:8080/"
        },
        "id": "Q4Y_S8y8H_Hj",
        "outputId": "2980982c-fbca-4dee-f2e5-57460efc4838"
      },
      "execution_count": 3,
      "outputs": [
        {
          "output_type": "stream",
          "name": "stdout",
          "text": [
            "   Transaction ID        Date   Time   Card Type Entry Mode  Amount  \\\n",
            "0               1  19/10/2023  05:31  MasterCard        Tap  391.56   \n",
            "1               2  16/10/2023  12:56  MasterCard        Tap  167.67   \n",
            "2               3  29/09/2023  07:57  MasterCard        PIN  126.24   \n",
            "3               4  13/10/2023  00:08  MasterCard        Tap  496.80   \n",
            "4               5  02/10/2023  23:19  MasterCard        Tap  446.88   \n",
            "\n",
            "  Transaction Type Merchant Group Transaction Country Shipping Address  \\\n",
            "0              POS       Clothing               Italy    61 Redwood St   \n",
            "1           Online       Clothing              France      945 Pine St   \n",
            "2           Online    Electronics               Spain       773 Oak St   \n",
            "3           Online    Electronics                  UK     436 Maple St   \n",
            "4              POS        Grocery              France      887 Pine St   \n",
            "\n",
            "  Billing Address  Gender  Age Issuing Bank Fraudulent  \n",
            "0    726 Maple St  Female   55     XYZ Bank         No  \n",
            "1    252 Cedar St    Male   37     DEF Bank         No  \n",
            "2     177 Main St    Male   53     ABC Bank         No  \n",
            "3     758 Main St    Male   21     DEF Bank         No  \n",
            "4     629 Main St    Male   52     XYZ Bank         No  \n"
          ]
        }
      ]
    },
    {
      "cell_type": "markdown",
      "source": [
        "Possui o objetivo de ler o arquivo CSV chamado 'dataset.csv' usando a biblioteca pandas em Python."
      ],
      "metadata": {
        "id": "d9J4xE7VLF4C"
      }
    },
    {
      "cell_type": "markdown",
      "source": [
        "### **Verificação das colunas**"
      ],
      "metadata": {
        "id": "aUHtlPXILg05"
      }
    },
    {
      "cell_type": "code",
      "source": [
        "print(df.columns)"
      ],
      "metadata": {
        "colab": {
          "base_uri": "https://localhost:8080/"
        },
        "id": "cPLDD8szKpIj",
        "outputId": "a32684ab-0510-42e6-fc43-9890b1779664"
      },
      "execution_count": 4,
      "outputs": [
        {
          "output_type": "stream",
          "name": "stdout",
          "text": [
            "Index(['Transaction ID', 'Date', 'Time', 'Card Type', 'Entry Mode', 'Amount',\n",
            "       'Transaction Type', 'Merchant Group', 'Transaction Country',\n",
            "       'Shipping Address', 'Billing Address', 'Gender', 'Age', 'Issuing Bank',\n",
            "       'Fraudulent'],\n",
            "      dtype='object')\n"
          ]
        }
      ]
    },
    {
      "cell_type": "markdown",
      "source": [
        "Exibir os nomes das colunas do DataFrame \"df\"."
      ],
      "metadata": {
        "id": "-PubQXR4Li93"
      }
    },
    {
      "cell_type": "markdown",
      "source": [
        "### **Verificação de distribuição das classes**"
      ],
      "metadata": {
        "id": "tn3_KpltLjKp"
      }
    },
    {
      "cell_type": "code",
      "source": [
        "sns.countplot(x='Fraudulent', data=df)\n",
        "plt.title('Distribuição de Classes')\n",
        "plt.show()"
      ],
      "metadata": {
        "colab": {
          "base_uri": "https://localhost:8080/",
          "height": 472
        },
        "id": "qgP4-DvPJdHf",
        "outputId": "ed3ce76b-2473-45cf-a657-dc4a1bdc1003"
      },
      "execution_count": 5,
      "outputs": [
        {
          "output_type": "display_data",
          "data": {
            "text/plain": [
              "<Figure size 640x480 with 1 Axes>"
            ],
            "image/png": "[encoded data removed]"
          },
          "metadata": {}
        }
      ]
    },
    {
      "cell_type": "markdown",
      "source": [
        "Esses comandos geram e exibem um gráfico de contagem das classes da variável 'Fraudulent' no DataFrame usando as bibliotecas seaborn e matplotlib.pyplot. O gráfico oferece uma visão rápida da distribuição das classes no conjunto de dados."
      ],
      "metadata": {
        "id": "2huGEPPjp5lw"
      }
    },
    {
      "cell_type": "markdown",
      "source": [
        "### **Identificador de possíveis desequilíbrios**"
      ],
      "metadata": {
        "id": "BcRWyyjzL8VJ"
      }
    },
    {
      "cell_type": "code",
      "source": [
        "frauds = df[df['Fraudulent'] == 1]\n",
        "legitimate = df[df['Fraudulent'] == 0]"
      ],
      "metadata": {
        "id": "Vy8b2WjtK4uE"
      },
      "execution_count": 6,
      "outputs": []
    },
    {
      "cell_type": "markdown",
      "source": [
        "Estes comandos criam dois novos DataFrames, frauds e legitimate, que contêm apenas as linhas do DataFrame original onde a coluna 'Fraudulent' é igual a 1 (fraudes) e 0 (não fraudes), respectivamente. Essa separação facilita a análise e manipulação específica de cada classe em conjuntos de dados desbalanceados."
      ],
      "metadata": {
        "id": "8cLY0b7aMB2G"
      }
    },
    {
      "cell_type": "markdown",
      "source": [
        "### **Exploração de padrões nos dados**"
      ],
      "metadata": {
        "id": "b0_igYdrMB5P"
      }
    },
    {
      "cell_type": "code",
      "source": [
        "correlation_matrix = df.corr()\n",
        "sns.heatmap(correlation_matrix, annot=True, cmap='coolwarm')\n",
        "plt.title('Matriz de Correlação')\n",
        "plt.show()"
      ],
      "metadata": {
        "colab": {
          "base_uri": "https://localhost:8080/",
          "height": 506
        },
        "id": "riSVe6ReK6KZ",
        "outputId": "6599ac94-64b1-4989-ae53-0bc192b895d8"
      },
      "execution_count": 7,
      "outputs": [
        {
          "output_type": "stream",
          "name": "stderr",
          "text": [
            "<ipython-input-7-877988f8955a>:1: FutureWarning: The default value of numeric_only in DataFrame.corr is deprecated. In a future version, it will default to False. Select only valid columns or specify the value of numeric_only to silence this warning.\n",
            "  correlation_matrix = df.corr()\n"
          ]
        },
        {
          "output_type": "display_data",
          "data": {
            "text/plain": [
              "<Figure size 640x480 with 2 Axes>"
            ],
            "image/png": "[encoded data removed]"
          },
          "metadata": {}
        }
      ]
    },
    {
      "cell_type": "markdown",
      "source": [
        " Os comandos geram e exibem um mapa de calor da matriz de correlação das variáveis no DataFrame df. O mapa de calor destaca visualmente as relações de correlação entre as diferentes características do conjunto de dados, proporcionando uma visão rápida dos padrões de associação entre as variáveis."
      ],
      "metadata": {
        "id": "4vJR5VCOMG_2"
      }
    },
    {
      "cell_type": "markdown",
      "source": [
        "## **2. Pré-processamento de Dados:**\n",
        "\n"
      ],
      "metadata": {
        "id": "buACDY3PMHbI"
      }
    },
    {
      "cell_type": "markdown",
      "source": [
        "### **Exibir as colunas categóricas e data a serem tratadas**"
      ],
      "metadata": {
        "id": "51V6rBPkMoj-"
      }
    },
    {
      "cell_type": "code",
      "source": [
        "categorical_columns = ['Card Type', 'Entry Mode', 'Transaction Type', 'Merchant Group', 'Transaction Country', 'Issuing Bank']\n",
        "date_columns = ['Date']\n",
        "time_columns = ['Time']"
      ],
      "metadata": {
        "id": "42XQV0sIQLdX"
      },
      "execution_count": 8,
      "outputs": []
    },
    {
      "cell_type": "markdown",
      "source": [
        "Criar listas que categorizam as colunas de um DataFrame em diferentes tipos, para facilitar a manipulação e análise específica desses tipos de dados."
      ],
      "metadata": {
        "id": "taOcBLMlrAWb"
      }
    },
    {
      "cell_type": "markdown",
      "source": [
        "### **Divisão dos dados em conjuntos de treinamento, validação e teste**"
      ],
      "metadata": {
        "id": "rGFoR2WsrHBs"
      }
    },
    {
      "cell_type": "code",
      "source": [
        "X = df.drop('Fraudulent', axis=1)\n",
        "y = df['Fraudulent']\n",
        "X_train, X_temp, y_train, y_temp = train_test_split(X, y, test_size=0.3, random_state=42)\n",
        "X_val, X_test, y_val, y_test = train_test_split(X_temp, y_temp, test_size=0.5, random_state=42)"
      ],
      "metadata": {
        "id": "zGOHPwI5RUCW"
      },
      "execution_count": 9,
      "outputs": []
    },
    {
      "cell_type": "markdown",
      "source": [
        "Criação de conjuntos de treinamento, validação e teste a partir de um DataFrame, facilitando a implementação e avaliação de modelos de machine learning."
      ],
      "metadata": {
        "id": "3r7WLSao0pdT"
      }
    },
    {
      "cell_type": "markdown",
      "source": [
        "### **Tratamento de colunas categóricas**"
      ],
      "metadata": {
        "id": "HyeWf_zQMrFu"
      }
    },
    {
      "cell_type": "code",
      "source": [
        "categorical_transformer = OneHotEncoder(handle_unknown='ignore', sparse=False)"
      ],
      "metadata": {
        "id": "rSKmFvvyRukU"
      },
      "execution_count": 10,
      "outputs": []
    },
    {
      "cell_type": "markdown",
      "source": [
        "O comando cria um transformador chamado categorical_transformer usando OneHotEncoder para codificar variáveis categóricas com abordagem one-hot, ignorando valores desconhecidos e produzindo uma matriz densa como resultado."
      ],
      "metadata": {
        "id": "P_g2nXl92KW5"
      }
    },
    {
      "cell_type": "markdown",
      "source": [
        "### **Tratamento de colunas não categóricas**"
      ],
      "metadata": {
        "id": "Qynpe5OE2Ken"
      }
    },
    {
      "cell_type": "code",
      "source": [
        "non_categorical_transformer = Pipeline(steps=[\n",
        "    ('imputer', SimpleImputer(strategy='median')),  # Preencher valores ausentes com a mediana\n",
        "    ('scaler', StandardScaler())  # Padronizar os valores\n",
        "])"
      ],
      "metadata": {
        "id": "oqWSWI96SoVZ"
      },
      "execution_count": 11,
      "outputs": []
    },
    {
      "cell_type": "markdown",
      "source": [
        "Com o objetivo de criar um transformador chamado non_categorical_transformer usando uma pipeline do scikit-learn. Ele preenche valores ausentes com a mediana e padroniza as variáveis numéricas."
      ],
      "metadata": {
        "id": "WlIMYDQO2uVT"
      }
    },
    {
      "cell_type": "markdown",
      "source": [
        "### **Aplicação de transformações**"
      ],
      "metadata": {
        "id": "Erb59SYM2uv-"
      }
    },
    {
      "cell_type": "code",
      "source": [
        "preprocessor = ColumnTransformer(\n",
        "    transformers=[\n",
        "        ('cat', categorical_transformer, categorical_columns),\n",
        "        ('non_cat', non_categorical_transformer, X_train.select_dtypes(exclude='object').columns)\n",
        "    ]\n",
        ")\n"
      ],
      "metadata": {
        "id": "wm9UnFPzZSqe"
      },
      "execution_count": 12,
      "outputs": []
    },
    {
      "cell_type": "markdown",
      "source": [
        "Possui o objetivo de criar um transformador chamado preprocessor usando ColumnTransformer do scikit-learn. Ele aplica transformações específicas a diferentes conjuntos de colunas em um conjunto de dados."
      ],
      "metadata": {
        "id": "gsBu-O6i499l"
      }
    },
    {
      "cell_type": "markdown",
      "source": [
        "### **Modelo**"
      ],
      "metadata": {
        "id": "kysWHqyYMVCy"
      }
    },
    {
      "cell_type": "code",
      "source": [
        "model = MLPClassifier(hidden_layer_sizes=(64,), max_iter=10, random_state=42)"
      ],
      "metadata": {
        "id": "LugEvMe9ZVc0"
      },
      "execution_count": 13,
      "outputs": []
    },
    {
      "cell_type": "markdown",
      "source": [
        "Possui o objetivo de criar um modelo de classificação baseado em uma MLP com uma camada oculta de 64 neurônios, treinado por até 10 épocas, e garantindo reprodutibilidade ao definir a semente aleatória."
      ],
      "metadata": {
        "id": "wNxN7PbNMQjq"
      }
    },
    {
      "cell_type": "markdown",
      "source": [
        "### **Pipeline completo**"
      ],
      "metadata": {
        "id": "mwfzMuE5MUnb"
      }
    },
    {
      "cell_type": "code",
      "source": [
        "clf = Pipeline(steps=[('preprocessor', preprocessor),\n",
        "                      ('classifier', model)])"
      ],
      "metadata": {
        "id": "Yf5l36rpZqps"
      },
      "execution_count": 14,
      "outputs": []
    },
    {
      "cell_type": "markdown",
      "source": [
        "Criação de um pipeline no scikit-learn, que é uma maneira de encadear vários passos de processamento de dados e modelagem em um único objeto."
      ],
      "metadata": {
        "id": "FcRL50xNNNrM"
      }
    },
    {
      "cell_type": "markdown",
      "source": [
        "### **Treinamento do modelo**"
      ],
      "metadata": {
        "id": "0GxGYqdINNxD"
      }
    },
    {
      "cell_type": "code",
      "source": [
        "clf.fit(X_train, y_train)"
      ],
      "metadata": {
        "colab": {
          "base_uri": "https://localhost:8080/",
          "height": 310
        },
        "id": "LzoOTpgvZt23",
        "outputId": "31e1e0c6-9a7a-47d1-da4b-4686e628b71c"
      },
      "execution_count": 15,
      "outputs": [
        {
          "output_type": "stream",
          "name": "stderr",
          "text": [
            "/usr/local/lib/python3.10/dist-packages/sklearn/preprocessing/_encoders.py:868: FutureWarning: `sparse` was renamed to `sparse_output` in version 1.2 and will be removed in 1.4. `sparse_output` is ignored unless you leave `sparse` to its default value.\n",
            "  warnings.warn(\n",
            "/usr/local/lib/python3.10/dist-packages/sklearn/neural_network/_multilayer_perceptron.py:686: ConvergenceWarning: Stochastic Optimizer: Maximum iterations (10) reached and the optimization hasn't converged yet.\n",
            "  warnings.warn(\n"
          ]
        },
        {
          "output_type": "execute_result",
          "data": {
            "text/plain": [
              "Pipeline(steps=[('preprocessor',\n",
              "                 ColumnTransformer(transformers=[('cat',\n",
              "                                                  OneHotEncoder(handle_unknown='ignore',\n",
              "                                                                sparse=False),\n",
              "                                                  ['Card Type', 'Entry Mode',\n",
              "                                                   'Transaction Type',\n",
              "                                                   'Merchant Group',\n",
              "                                                   'Transaction Country',\n",
              "                                                   'Issuing Bank']),\n",
              "                                                 ('non_cat',\n",
              "                                                  Pipeline(steps=[('imputer',\n",
              "                                                                   SimpleImputer(strategy='median')),\n",
              "                                                                  ('scaler',\n",
              "                                                                   StandardScaler())]),\n",
              "                                                  Index(['Transaction ID', 'Amount', 'Age'], dtype='object'))])),\n",
              "                ('classifier',\n",
              "                 MLPClassifier(hidden_layer_sizes=(64,), max_iter=10,\n",
              "                               random_state=42))])"
            ],
            "text/html": [
              "<style>#sk-container-id-1 {color: black;background-color: white;}#sk-container-id-1 pre{padding: 0;}#sk-container-id-1 div.sk-toggleable {background-color: white;}#sk-container-id-1 label.sk-toggleable__label {cursor: pointer;display: block;width: 100%;margin-bottom: 0;padding: 0.3em;box-sizing: border-box;text-align: center;}#sk-container-id-1 label.sk-toggleable__label-arrow:before {content: \"▸\";float: left;margin-right: 0.25em;color: #696969;}#sk-container-id-1 label.sk-toggleable__label-arrow:hover:before {color: black;}#sk-container-id-1 div.sk-estimator:hover label.sk-toggleable__label-arrow:before {color: black;}#sk-container-id-1 div.sk-toggleable__content {max-height: 0;max-width: 0;overflow: hidden;text-align: left;background-color: #f0f8ff;}#sk-container-id-1 div.sk-toggleable__content pre {margin: 0.2em;color: black;border-radius: 0.25em;background-color: #f0f8ff;}#sk-container-id-1 input.sk-toggleable__control:checked~div.sk-toggleable__content {max-height: 200px;max-width: 100%;overflow: auto;}#sk-container-id-1 input.sk-toggleable__control:checked~label.sk-toggleable__label-arrow:before {content: \"▾\";}#sk-container-id-1 div.sk-estimator input.sk-toggleable__control:checked~label.sk-toggleable__label {background-color: #d4ebff;}#sk-container-id-1 div.sk-label input.sk-toggleable__control:checked~label.sk-toggleable__label {background-color: #d4ebff;}#sk-container-id-1 input.sk-hidden--visually {border: 0;clip: rect(1px 1px 1px 1px);clip: rect(1px, 1px, 1px, 1px);height: 1px;margin: -1px;overflow: hidden;padding: 0;position: absolute;width: 1px;}#sk-container-id-1 div.sk-estimator {font-family: monospace;background-color: #f0f8ff;border: 1px dotted black;border-radius: 0.25em;box-sizing: border-box;margin-bottom: 0.5em;}#sk-container-id-1 div.sk-estimator:hover {background-color: #d4ebff;}#sk-container-id-1 div.sk-parallel-item::after {content: \"\";width: 100%;border-bottom: 1px solid gray;flex-grow: 1;}#sk-container-id-1 div.sk-label:hover label.sk-toggleable__label {background-color: #d4ebff;}#sk-container-id-1 div.sk-serial::before {content: \"\";position: absolute;border-left: 1px solid gray;box-sizing: border-box;top: 0;bottom: 0;left: 50%;z-index: 0;}#sk-container-id-1 div.sk-serial {display: flex;flex-direction: column;align-items: center;background-color: white;padding-right: 0.2em;padding-left: 0.2em;position: relative;}#sk-container-id-1 div.sk-item {position: relative;z-index: 1;}#sk-container-id-1 div.sk-parallel {display: flex;align-items: stretch;justify-content: center;background-color: white;position: relative;}#sk-container-id-1 div.sk-item::before, #sk-container-id-1 div.sk-parallel-item::before {content: \"\";position: absolute;border-left: 1px solid gray;box-sizing: border-box;top: 0;bottom: 0;left: 50%;z-index: -1;}#sk-container-id-1 div.sk-parallel-item {display: flex;flex-direction: column;z-index: 1;position: relative;background-color: white;}#sk-container-id-1 div.sk-parallel-item:first-child::after {align-self: flex-end;width: 50%;}#sk-container-id-1 div.sk-parallel-item:last-child::after {align-self: flex-start;width: 50%;}#sk-container-id-1 div.sk-parallel-item:only-child::after {width: 0;}#sk-container-id-1 div.sk-dashed-wrapped {border: 1px dashed gray;margin: 0 0.4em 0.5em 0.4em;box-sizing: border-box;padding-bottom: 0.4em;background-color: white;}#sk-container-id-1 div.sk-label label {font-family: monospace;font-weight: bold;display: inline-block;line-height: 1.2em;}#sk-container-id-1 div.sk-label-container {text-align: center;}#sk-container-id-1 div.sk-container {/* jupyter's `normalize.less` sets `[hidden] { display: none; }` but bootstrap.min.css set `[hidden] { display: none !important; }` so we also need the `!important` here to be able to override the default hidden behavior on the sphinx rendered scikit-learn.org. See: https://github.com/scikit-learn/scikit-learn/issues/21755 */display: inline-block !important;position: relative;}#sk-container-id-1 div.sk-text-repr-fallback {display: none;}</style><div id=\"sk-container-id-1\" class=\"sk-top-container\"><div class=\"sk-text-repr-fallback\"><pre>Pipeline(steps=[(&#x27;preprocessor&#x27;,\n",
              "                 ColumnTransformer(transformers=[(&#x27;cat&#x27;,\n",
              "                                                  OneHotEncoder(handle_unknown=&#x27;ignore&#x27;,\n",
              "                                                                sparse=False),\n",
              "                                                  [&#x27;Card Type&#x27;, &#x27;Entry Mode&#x27;,\n",
              "                                                   &#x27;Transaction Type&#x27;,\n",
              "                                                   &#x27;Merchant Group&#x27;,\n",
              "                                                   &#x27;Transaction Country&#x27;,\n",
              "                                                   &#x27;Issuing Bank&#x27;]),\n",
              "                                                 (&#x27;non_cat&#x27;,\n",
              "                                                  Pipeline(steps=[(&#x27;imputer&#x27;,\n",
              "                                                                   SimpleImputer(strategy=&#x27;median&#x27;)),\n",
              "                                                                  (&#x27;scaler&#x27;,\n",
              "                                                                   StandardScaler())]),\n",
              "                                                  Index([&#x27;Transaction ID&#x27;, &#x27;Amount&#x27;, &#x27;Age&#x27;], dtype=&#x27;object&#x27;))])),\n",
              "                (&#x27;classifier&#x27;,\n",
              "                 MLPClassifier(hidden_layer_sizes=(64,), max_iter=10,\n",
              "                               random_state=42))])</pre><b>In a Jupyter environment, please rerun this cell to show the HTML representation or trust the notebook. <br />On GitHub, the HTML representation is unable to render, please try loading this page with nbviewer.org.</b></div><div class=\"sk-container\" hidden><div class=\"sk-item sk-dashed-wrapped\"><div class=\"sk-label-container\"><div class=\"sk-label sk-toggleable\"><input class=\"sk-toggleable__control sk-hidden--visually\" id=\"sk-estimator-id-1\" type=\"checkbox\" ><label for=\"sk-estimator-id-1\" class=\"sk-toggleable__label sk-toggleable__label-arrow\">Pipeline</label><div class=\"sk-toggleable__content\"><pre>Pipeline(steps=[(&#x27;preprocessor&#x27;,\n",
              "                 ColumnTransformer(transformers=[(&#x27;cat&#x27;,\n",
              "                                                  OneHotEncoder(handle_unknown=&#x27;ignore&#x27;,\n",
              "                                                                sparse=False),\n",
              "                                                  [&#x27;Card Type&#x27;, &#x27;Entry Mode&#x27;,\n",
              "                                                   &#x27;Transaction Type&#x27;,\n",
              "                                                   &#x27;Merchant Group&#x27;,\n",
              "                                                   &#x27;Transaction Country&#x27;,\n",
              "                                                   &#x27;Issuing Bank&#x27;]),\n",
              "                                                 (&#x27;non_cat&#x27;,\n",
              "                                                  Pipeline(steps=[(&#x27;imputer&#x27;,\n",
              "                                                                   SimpleImputer(strategy=&#x27;median&#x27;)),\n",
              "                                                                  (&#x27;scaler&#x27;,\n",
              "                                                                   StandardScaler())]),\n",
              "                                                  Index([&#x27;Transaction ID&#x27;, &#x27;Amount&#x27;, &#x27;Age&#x27;], dtype=&#x27;object&#x27;))])),\n",
              "                (&#x27;classifier&#x27;,\n",
              "                 MLPClassifier(hidden_layer_sizes=(64,), max_iter=10,\n",
              "                               random_state=42))])</pre></div></div></div><div class=\"sk-serial\"><div class=\"sk-item sk-dashed-wrapped\"><div class=\"sk-label-container\"><div class=\"sk-label sk-toggleable\"><input class=\"sk-toggleable__control sk-hidden--visually\" id=\"sk-estimator-id-2\" type=\"checkbox\" ><label for=\"sk-estimator-id-2\" class=\"sk-toggleable__label sk-toggleable__label-arrow\">preprocessor: ColumnTransformer</label><div class=\"sk-toggleable__content\"><pre>ColumnTransformer(transformers=[(&#x27;cat&#x27;,\n",
              "                                 OneHotEncoder(handle_unknown=&#x27;ignore&#x27;,\n",
              "                                               sparse=False),\n",
              "                                 [&#x27;Card Type&#x27;, &#x27;Entry Mode&#x27;, &#x27;Transaction Type&#x27;,\n",
              "                                  &#x27;Merchant Group&#x27;, &#x27;Transaction Country&#x27;,\n",
              "                                  &#x27;Issuing Bank&#x27;]),\n",
              "                                (&#x27;non_cat&#x27;,\n",
              "                                 Pipeline(steps=[(&#x27;imputer&#x27;,\n",
              "                                                  SimpleImputer(strategy=&#x27;median&#x27;)),\n",
              "                                                 (&#x27;scaler&#x27;, StandardScaler())]),\n",
              "                                 Index([&#x27;Transaction ID&#x27;, &#x27;Amount&#x27;, &#x27;Age&#x27;], dtype=&#x27;object&#x27;))])</pre></div></div></div><div class=\"sk-parallel\"><div class=\"sk-parallel-item\"><div class=\"sk-item\"><div class=\"sk-label-container\"><div class=\"sk-label sk-toggleable\"><input class=\"sk-toggleable__control sk-hidden--visually\" id=\"sk-estimator-id-3\" type=\"checkbox\" ><label for=\"sk-estimator-id-3\" class=\"sk-toggleable__label sk-toggleable__label-arrow\">cat</label><div class=\"sk-toggleable__content\"><pre>[&#x27;Card Type&#x27;, &#x27;Entry Mode&#x27;, &#x27;Transaction Type&#x27;, &#x27;Merchant Group&#x27;, &#x27;Transaction Country&#x27;, &#x27;Issuing Bank&#x27;]</pre></div></div></div><div class=\"sk-serial\"><div class=\"sk-item\"><div class=\"sk-estimator sk-toggleable\"><input class=\"sk-toggleable__control sk-hidden--visually\" id=\"sk-estimator-id-4\" type=\"checkbox\" ><label for=\"sk-estimator-id-4\" class=\"sk-toggleable__label sk-toggleable__label-arrow\">OneHotEncoder</label><div class=\"sk-toggleable__content\"><pre>OneHotEncoder(handle_unknown=&#x27;ignore&#x27;, sparse=False)</pre></div></div></div></div></div></div><div class=\"sk-parallel-item\"><div class=\"sk-item\"><div class=\"sk-label-container\"><div class=\"sk-label sk-toggleable\"><input class=\"sk-toggleable__control sk-hidden--visually\" id=\"sk-estimator-id-5\" type=\"checkbox\" ><label for=\"sk-estimator-id-5\" class=\"sk-toggleable__label sk-toggleable__label-arrow\">non_cat</label><div class=\"sk-toggleable__content\"><pre>Index([&#x27;Transaction ID&#x27;, &#x27;Amount&#x27;, &#x27;Age&#x27;], dtype=&#x27;object&#x27;)</pre></div></div></div><div class=\"sk-serial\"><div class=\"sk-item\"><div class=\"sk-serial\"><div class=\"sk-item\"><div class=\"sk-estimator sk-toggleable\"><input class=\"sk-toggleable__control sk-hidden--visually\" id=\"sk-estimator-id-6\" type=\"checkbox\" ><label for=\"sk-estimator-id-6\" class=\"sk-toggleable__label sk-toggleable__label-arrow\">SimpleImputer</label><div class=\"sk-toggleable__content\"><pre>SimpleImputer(strategy=&#x27;median&#x27;)</pre></div></div></div><div class=\"sk-item\"><div class=\"sk-estimator sk-toggleable\"><input class=\"sk-toggleable__control sk-hidden--visually\" id=\"sk-estimator-id-7\" type=\"checkbox\" ><label for=\"sk-estimator-id-7\" class=\"sk-toggleable__label sk-toggleable__label-arrow\">StandardScaler</label><div class=\"sk-toggleable__content\"><pre>StandardScaler()</pre></div></div></div></div></div></div></div></div></div></div><div class=\"sk-item\"><div class=\"sk-estimator sk-toggleable\"><input class=\"sk-toggleable__control sk-hidden--visually\" id=\"sk-estimator-id-8\" type=\"checkbox\" ><label for=\"sk-estimator-id-8\" class=\"sk-toggleable__label sk-toggleable__label-arrow\">MLPClassifier</label><div class=\"sk-toggleable__content\"><pre>MLPClassifier(hidden_layer_sizes=(64,), max_iter=10, random_state=42)</pre></div></div></div></div></div></div></div>"
            ]
          },
          "metadata": {},
          "execution_count": 15
        }
      ]
    },
    {
      "cell_type": "markdown",
      "source": [
        "Este comando clf.fit(X_train, y_train) é utilizado para treinar o modelo de aprendizado de máquina no conjunto de treinamento fornecido."
      ],
      "metadata": {
        "id": "-MI_0mBvNQwO"
      }
    },
    {
      "cell_type": "markdown",
      "source": [
        "### **Avaliação do modelo no conjunto de teste**"
      ],
      "metadata": {
        "id": "3UBNaHCVNQzA"
      }
    },
    {
      "cell_type": "code",
      "source": [
        "y_pred = clf.predict(X_test)\n",
        "y_pred_proba = clf.predict_proba(X_test)[:, 1]"
      ],
      "metadata": {
        "id": "cPVagIByas0G"
      },
      "execution_count": 16,
      "outputs": []
    },
    {
      "cell_type": "markdown",
      "source": [
        "O comando y_pred = clf.predict(X_test) é utilizado para fazer previsões das classes para as amostras no conjunto de teste (X_test) usando o modelo treinado (clf). A variável resultante y_pred contém as previsões de classe para cada amostra no conjunto de teste."
      ],
      "metadata": {
        "id": "8CpKqeHJNWzu"
      }
    },
    {
      "cell_type": "markdown",
      "source": [
        "### **Métricas de desempenho**"
      ],
      "metadata": {
        "id": "fQOLc7O4NbY9"
      }
    },
    {
      "cell_type": "code",
      "source": [
        "print(\"Matriz de Confusão:\")\n",
        "print(confusion_matrix(y_test, y_pred))\n",
        "print(\"\\nRelatório de Classificação:\")\n",
        "print(classification_report(y_test, y_pred))\n",
        "print(\"\\nAUC-ROC:\", roc_auc_score(y_test, y_pred_proba))"
      ],
      "metadata": {
        "colab": {
          "base_uri": "https://localhost:8080/"
        },
        "id": "0O3UusUrNb1O",
        "outputId": "226a877e-3c99-4cb8-93b4-425f9e8cfe4f"
      },
      "execution_count": 17,
      "outputs": [
        {
          "output_type": "stream",
          "name": "stdout",
          "text": [
            "Matriz de Confusão:\n",
            "[[142   0]\n",
            " [  8   0]]\n",
            "\n",
            "Relatório de Classificação:\n",
            "              precision    recall  f1-score   support\n",
            "\n",
            "          No       0.95      1.00      0.97       142\n",
            "         Yes       0.00      0.00      0.00         8\n",
            "\n",
            "    accuracy                           0.95       150\n",
            "   macro avg       0.47      0.50      0.49       150\n",
            "weighted avg       0.90      0.95      0.92       150\n",
            "\n",
            "\n",
            "AUC-ROC: 0.3609154929577465\n"
          ]
        },
        {
          "output_type": "stream",
          "name": "stderr",
          "text": [
            "/usr/local/lib/python3.10/dist-packages/sklearn/metrics/_classification.py:1344: UndefinedMetricWarning: Precision and F-score are ill-defined and being set to 0.0 in labels with no predicted samples. Use `zero_division` parameter to control this behavior.\n",
            "  _warn_prf(average, modifier, msg_start, len(result))\n",
            "/usr/local/lib/python3.10/dist-packages/sklearn/metrics/_classification.py:1344: UndefinedMetricWarning: Precision and F-score are ill-defined and being set to 0.0 in labels with no predicted samples. Use `zero_division` parameter to control this behavior.\n",
            "  _warn_prf(average, modifier, msg_start, len(result))\n",
            "/usr/local/lib/python3.10/dist-packages/sklearn/metrics/_classification.py:1344: UndefinedMetricWarning: Precision and F-score are ill-defined and being set to 0.0 in labels with no predicted samples. Use `zero_division` parameter to control this behavior.\n",
            "  _warn_prf(average, modifier, msg_start, len(result))\n"
          ]
        }
      ]
    },
    {
      "cell_type": "markdown",
      "source": [
        "Possui o objetivo de fornecer métricas de desempenho detalhadas para avaliar o modelo de classificação."
      ],
      "metadata": {
        "id": "uWnC-ecBN1YN"
      }
    },
    {
      "cell_type": "markdown",
      "source": [
        "### **Mapeação 'Yes' para 1 e 'No' para 0**"
      ],
      "metadata": {
        "id": "3eAorKqUNeu-"
      }
    },
    {
      "cell_type": "code",
      "source": [
        "y_test_binary = y_test.map({'No': 0, 'Yes': 1})\n",
        "y_pred_proba = clf.predict_proba(X_test)[:, 1]"
      ],
      "metadata": {
        "id": "p7zXg9rGN2pI"
      },
      "execution_count": 18,
      "outputs": []
    },
    {
      "cell_type": "markdown",
      "source": [
        "Possui o objetivo preparar o conjunto de teste para avaliação em um problema de classificação binária. O primeiro comando, y_test_binary = y_test.map({'No': 0, 'Yes': 1}), converte as classes do conjunto de teste de 'No' para 0 e 'Yes' para 1. Isso facilita a comparação direta entre as classes previstas e reais. O segundo comando, y_pred_proba = clf.predict_proba(X_test)[:, 1], obtém as probabilidades previstas para a classe positiva, útil para análises detalhadas da confiança do modelo. Ambos os passos são comuns na avaliação de modelos de classificação binária."
      ],
      "metadata": {
        "id": "Ne1d73F9PRDK"
      }
    },
    {
      "cell_type": "markdown",
      "source": [
        "### **Calcular a curva ROC**"
      ],
      "metadata": {
        "id": "aBdndPqLPRF6"
      }
    },
    {
      "cell_type": "code",
      "source": [
        "fpr, tpr, thresholds = roc_curve(y_test_binary, y_pred_proba)\n",
        "roc_auc = auc(fpr, tpr)"
      ],
      "metadata": {
        "id": "G-wOe96GN2wr"
      },
      "execution_count": 19,
      "outputs": []
    },
    {
      "cell_type": "markdown",
      "source": [
        "Tem o objetivo de calcular as métricas relacionadas à curva ROC (Receiver Operating Characteristic) para avaliar o desempenho de um modelo de classificação binária."
      ],
      "metadata": {
        "id": "QA2gvL8BPL6_"
      }
    },
    {
      "cell_type": "markdown",
      "source": [
        "### **Plotar a curva ROC**"
      ],
      "metadata": {
        "id": "3TyRRw-jPL_G"
      }
    },
    {
      "cell_type": "code",
      "source": [
        "plt.figure(figsize=(8, 8))\n",
        "plt.plot(fpr, tpr, color='darkorange', lw=2, label='Curva ROC (área = {:.2f})'.format(roc_auc))\n",
        "plt.plot([0, 1], [0, 1], color='navy', lw=2, linestyle='--')\n",
        "plt.xlim([0.0, 1.0])\n",
        "plt.ylim([0.0, 1.05])\n",
        "plt.xlabel('Taxa de Falsos Positivos (FPR)')\n",
        "plt.ylabel('Taxa de Verdadeiros Positivos (TPR)')\n",
        "plt.title('Curva ROC')\n",
        "plt.legend(loc=\"lower right\")\n",
        "plt.show()"
      ],
      "metadata": {
        "colab": {
          "base_uri": "https://localhost:8080/",
          "height": 718
        },
        "id": "wkErBeU-N20B",
        "outputId": "bcab0c08-f000-4015-c50e-17467c333531"
      },
      "execution_count": 20,
      "outputs": [
        {
          "output_type": "display_data",
          "data": {
            "text/plain": [
              "<Figure size 800x800 with 1 Axes>"
            ],
            "image/png": "[encoded data removed]"
          },
          "metadata": {}
        }
      ]
    },
    {
      "cell_type": "markdown",
      "source": [
        "Tem o objetivo visualizar a curva ROC (Receiver Operating Characteristic) com informações sobre a área sob a curva (AUC-ROC) para avaliar de forma gráfica o desempenho de um modelo de classificação binária.\n",
        "\n",
        "Esse gráfico fornece uma representação visual do desempenho do modelo, ajudando a avaliar sua capacidade de distinguir entre as classes positivas e negativas em diferentes limiares de decisão."
      ],
      "metadata": {
        "id": "kGw2NTHaPJEb"
      }
    }
  ]
}